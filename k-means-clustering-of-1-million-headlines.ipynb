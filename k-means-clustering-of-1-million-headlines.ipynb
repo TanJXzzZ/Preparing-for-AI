{
 "cells": [
  {
   "cell_type": "markdown",
   "metadata": {
    "_cell_guid": "8b9d6583-6ae1-4bb6-970c-c80d42dfebdb",
    "_uuid": "d56b7961b91d7f67554ec48bd1d2485fb7419120"
   },
   "source": [
    "# 1 数据集信息\n",
    "澳大利亚广播公司 ABC 发布的新闻头条数据"
   ]
  },
  {
   "cell_type": "code",
   "execution_count": 4,
   "metadata": {
    "_cell_guid": "b1076dfc-b9ad-4769-8c92-a6c4dae69d19",
    "_uuid": "8f2839f25d086af736a60e9eeb907d3b93b6e0e5"
   },
   "outputs": [],
   "source": [
    "import numpy as np \n",
    "import pandas as pd \n",
    "import matplotlib.pyplot as plt\n",
    "import seaborn as sns\n",
    "from sklearn.feature_extraction import text\n",
    "from sklearn.feature_extraction.text import TfidfVectorizer\n",
    "from sklearn.cluster import KMeans\n",
    "from nltk.tokenize import RegexpTokenizer\n",
    "from nltk.stem.snowball import SnowballStemmer\n",
    "%matplotlib inline"
   ]
  },
  {
   "cell_type": "code",
   "execution_count": 5,
   "metadata": {
    "_cell_guid": "79c7e3d0-c299-4dcb-8224-4455121ee9b0",
    "_uuid": "d629ff2d2480ee46fbb7e2d37f6b5fab8052498a",
    "scrolled": true
   },
   "outputs": [],
   "source": [
    "# 读取数据集\n",
    "data = pd.read_csv(\"/data/course_data/abcnews-date-text/abcnews-date-text.csv\",error_bad_lines=False,usecols =[\"headline_text\"])\n",
    "data.head()\n",
    "data = data.head(10000)  # 获取部分数据快速运行，你可以尝试修改使用的数据量查看后续的建模效果，不过注意使用的数据越多后续模型训练的时间越长"
   ]
  },
  {
   "cell_type": "code",
   "execution_count": 6,
   "metadata": {
    "_cell_guid": "3e44d856-a323-45ac-b7cc-80d77385060f",
    "_uuid": "a498ee778ab763e0801b8f9cf14e1d4d01f38846"
   },
   "outputs": [
    {
     "name": "stdout",
     "output_type": "stream",
     "text": [
      "<class 'pandas.core.frame.DataFrame'>\n",
      "RangeIndex: 10000 entries, 0 to 9999\n",
      "Data columns (total 1 columns):\n",
      " #   Column         Non-Null Count  Dtype \n",
      "---  ------         --------------  ----- \n",
      " 0   headline_text  10000 non-null  object\n",
      "dtypes: object(1)\n",
      "memory usage: 78.2+ KB\n"
     ]
    }
   ],
   "source": [
    "# 打印数据信息\n",
    "data.info()"
   ]
  },
  {
   "cell_type": "markdown",
   "metadata": {
    "_cell_guid": "ff887c6d-0470-4f62-860b-9457b223bb8c",
    "_uuid": "eb590852f097f66ea53be9a970789430fc3f6a63"
   },
   "source": [
    "## 1.1 删除重复数据"
   ]
  },
  {
   "cell_type": "code",
   "execution_count": 7,
   "metadata": {
    "_cell_guid": "42392880-315c-41bf-98e8-a1cbfab72f6e",
    "_uuid": "1e0143660cbb59acf14ed07c847fd9bc3ca85045"
   },
   "outputs": [
    {
     "data": {
      "text/html": [
       "<div>\n",
       "<style scoped>\n",
       "    .dataframe tbody tr th:only-of-type {\n",
       "        vertical-align: middle;\n",
       "    }\n",
       "\n",
       "    .dataframe tbody tr th {\n",
       "        vertical-align: top;\n",
       "    }\n",
       "\n",
       "    .dataframe thead th {\n",
       "        text-align: right;\n",
       "    }\n",
       "</style>\n",
       "<table border=\"1\" class=\"dataframe\">\n",
       "  <thead>\n",
       "    <tr style=\"text-align: right;\">\n",
       "      <th></th>\n",
       "      <th>headline_text</th>\n",
       "    </tr>\n",
       "  </thead>\n",
       "  <tbody>\n",
       "    <tr>\n",
       "      <th>9253</th>\n",
       "      <td>5 australian sars cases being monitored</td>\n",
       "    </tr>\n",
       "    <tr>\n",
       "      <th>9458</th>\n",
       "      <td>5 australian sars cases being monitored</td>\n",
       "    </tr>\n",
       "    <tr>\n",
       "      <th>6402</th>\n",
       "      <td>all walks of life follow protest path</td>\n",
       "    </tr>\n",
       "    <tr>\n",
       "      <th>6192</th>\n",
       "      <td>all walks of life follow protest path</td>\n",
       "    </tr>\n",
       "    <tr>\n",
       "      <th>6197</th>\n",
       "      <td>asio briefs crean on terrorist risk</td>\n",
       "    </tr>\n",
       "    <tr>\n",
       "      <th>6409</th>\n",
       "      <td>asio briefs crean on terrorist risk</td>\n",
       "    </tr>\n",
       "    <tr>\n",
       "      <th>6609</th>\n",
       "      <td>australia celebrates world cup victory</td>\n",
       "    </tr>\n",
       "    <tr>\n",
       "      <th>6813</th>\n",
       "      <td>australia celebrates world cup victory</td>\n",
       "    </tr>\n",
       "  </tbody>\n",
       "</table>\n",
       "</div>"
      ],
      "text/plain": [
       "                                headline_text\n",
       "9253  5 australian sars cases being monitored\n",
       "9458  5 australian sars cases being monitored\n",
       "6402    all walks of life follow protest path\n",
       "6192    all walks of life follow protest path\n",
       "6197      asio briefs crean on terrorist risk\n",
       "6409      asio briefs crean on terrorist risk\n",
       "6609   australia celebrates world cup victory\n",
       "6813   australia celebrates world cup victory"
      ]
     },
     "execution_count": 7,
     "metadata": {},
     "output_type": "execute_result"
    }
   ],
   "source": [
    "# 查看重复的数据行，pandas.DataFrame.duplicated 使用方法详见：https://pandas.pydata.org/pandas-docs/stable/reference/api/pandas.DataFrame.duplicated.html\n",
    "data[data['headline_text'].duplicated(keep=False)].sort_values('headline_text').head(8)"
   ]
  },
  {
   "cell_type": "code",
   "execution_count": 8,
   "metadata": {
    "_cell_guid": "9f5ff611-397e-45b7-9616-7bc33f6e81bb",
    "_uuid": "4e5e82d7c6fb0e7b14f8b5772bea14e448f88fcc"
   },
   "outputs": [
    {
     "data": {
      "text/html": [
       "<div>\n",
       "<style scoped>\n",
       "    .dataframe tbody tr th:only-of-type {\n",
       "        vertical-align: middle;\n",
       "    }\n",
       "\n",
       "    .dataframe tbody tr th {\n",
       "        vertical-align: top;\n",
       "    }\n",
       "\n",
       "    .dataframe thead th {\n",
       "        text-align: right;\n",
       "    }\n",
       "</style>\n",
       "<table border=\"1\" class=\"dataframe\">\n",
       "  <thead>\n",
       "    <tr style=\"text-align: right;\">\n",
       "      <th></th>\n",
       "      <th>headline_text</th>\n",
       "    </tr>\n",
       "  </thead>\n",
       "  <tbody>\n",
       "    <tr>\n",
       "      <th>0</th>\n",
       "      <td>aba decides against community broadcasting lic...</td>\n",
       "    </tr>\n",
       "    <tr>\n",
       "      <th>1</th>\n",
       "      <td>act fire witnesses must be aware of defamation</td>\n",
       "    </tr>\n",
       "    <tr>\n",
       "      <th>2</th>\n",
       "      <td>a g calls for infrastructure protection summit</td>\n",
       "    </tr>\n",
       "    <tr>\n",
       "      <th>3</th>\n",
       "      <td>air nz staff in aust strike for pay rise</td>\n",
       "    </tr>\n",
       "    <tr>\n",
       "      <th>4</th>\n",
       "      <td>air nz strike to affect australian travellers</td>\n",
       "    </tr>\n",
       "    <tr>\n",
       "      <th>...</th>\n",
       "      <td>...</td>\n",
       "    </tr>\n",
       "    <tr>\n",
       "      <th>9995</th>\n",
       "      <td>vic govt plan aims to reduce water use</td>\n",
       "    </tr>\n",
       "    <tr>\n",
       "      <th>9996</th>\n",
       "      <td>vic govt urged to green light marina plan</td>\n",
       "    </tr>\n",
       "    <tr>\n",
       "      <th>9997</th>\n",
       "      <td>vic nats leave door open on coalition</td>\n",
       "    </tr>\n",
       "    <tr>\n",
       "      <th>9998</th>\n",
       "      <td>waterfall survivors tell of train speeding before</td>\n",
       "    </tr>\n",
       "    <tr>\n",
       "      <th>9999</th>\n",
       "      <td>water wont be moved without studies gallop</td>\n",
       "    </tr>\n",
       "  </tbody>\n",
       "</table>\n",
       "<p>9967 rows × 1 columns</p>\n",
       "</div>"
      ],
      "text/plain": [
       "                                          headline_text\n",
       "0     aba decides against community broadcasting lic...\n",
       "1        act fire witnesses must be aware of defamation\n",
       "2        a g calls for infrastructure protection summit\n",
       "3              air nz staff in aust strike for pay rise\n",
       "4         air nz strike to affect australian travellers\n",
       "...                                                 ...\n",
       "9995             vic govt plan aims to reduce water use\n",
       "9996          vic govt urged to green light marina plan\n",
       "9997              vic nats leave door open on coalition\n",
       "9998  waterfall survivors tell of train speeding before\n",
       "9999         water wont be moved without studies gallop\n",
       "\n",
       "[9967 rows x 1 columns]"
      ]
     },
     "execution_count": 8,
     "metadata": {},
     "output_type": "execute_result"
    }
   ],
   "source": [
    "# 删除重复行，pandas.DataFrame.drop_duplicates 使用方法详见：https://pandas.pydata.org/pandas-docs/stable/reference/api/pandas.DataFrame.drop_duplicates.html\n",
    "########## 第一题 ～ 1行 ##########\n",
    "######### your code #########\n",
    "data = data.drop_duplicates('headline_text')\n",
    "data"
   ]
  },
  {
   "cell_type": "markdown",
   "metadata": {
    "_cell_guid": "f1bb8d35-27aa-4ff4-9a39-4329517aa6a4",
    "_uuid": "f022fdf6441499ed52b34c063240f4f28b2ff3a5"
   },
   "source": [
    "# 2 数据预处理 "
   ]
  },
  {
   "cell_type": "markdown",
   "metadata": {
    "_cell_guid": "7ecba7c7-84d0-426b-aa9c-9ca05d45da75",
    "_uuid": "d2f1e1b88fb7b29fd47c249be3af044ef1e2a246"
   },
   "source": [
    "## 2.1 为向量化表示进行前处理\n",
    "进行自然语言处理时，必须将单词转换为机器学习算法可以利用的向量。如果目标是对文本数据进行机器学习建模，例如电影评论或推文或其他任何内容，则需要将文本数据转换为数字。此过程称为“嵌入”或“向量化”。  \n",
    "进行向量化时，请务必记住，它不仅仅是将单个单词变成单个数字。单词可以转换为数字，整个文档就可以转换为向量。向量的维度往往不止一个，而且对于文本数据，向量通常是高维的。这是因为特征数据的每个维度将对应一个单词，而我们所处理的文档通常包含数千个单词。\n",
    "\n",
    "## 2.2 TF-IDF\n",
    "在信息检索中，tf–idf 或 TFIDF（term frequency–inverse document frequency）是一种数值统计，旨在反映单词对语料库中文档的重要性。在信息检索，文本挖掘和用户建模的搜索中，它通常用作加权因子。 tf-idf 值与单词在文档中出现的次数成正比，同时被单词在语料库中的出现频率所抵消，这有助于调整某些单词通常会更频繁出现的事实。 如今，tf-idf是最流行的术语加权方案之一。在数字图书馆领域，有83％的基于文本的推荐系统使用tf-idf。\n",
    "\n",
    "搜索引擎经常使用tf–idf加权方案的变体作为在给定用户查询时对文档相关性进行评分和排名的主要工具。tf–idf可成功用于各种领域的停用词过滤，包括文本摘要和分类。\n",
    "\n",
    "排名函数中最简单的是通过将每个查询词的tf–idf相加得出，许多更复杂的排名函数是此简单模型的变体。"
   ]
  },
  {
   "cell_type": "code",
   "execution_count": 38,
   "metadata": {
    "_cell_guid": "c7e595ab-440c-4ad7-98e4-4358cc724d8c",
    "_uuid": "9c1c23ecabae8217a9aa8f90371f2a30053cc6f1"
   },
   "outputs": [
    {
     "name": "stdout",
     "output_type": "stream",
     "text": [
      "['aba decides against community broadcasting licence'\n",
      " 'act fire witnesses must be aware of defamation'\n",
      " 'a g calls for infrastructure protection summit' ...\n",
      " 'vic nats leave door open on coalition'\n",
      " 'waterfall survivors tell of train speeding before'\n",
      " 'water wont be moved without studies gallop']\n"
     ]
    }
   ],
   "source": [
    "punc = ['.', ',', '\"', \"'\", '?', '!', ':', ';', '(', ')', '[', ']', '{', '}',\"%\"]\n",
    "stop_words = text.ENGLISH_STOP_WORDS.union(punc)\n",
    "desc = data['headline_text'].values\n",
    "print(desc)\n",
    "############ 第二题 ～ 1行 ############\n",
    "############ your code start ############\n",
    "# TfidfVectorizer 使用方法详见：http://scikit-learn.org/stable/modules/generated/sklearn.feature_extraction.text.TfidfVectorizer.html\n",
    "vectorizer = TfidfVectorizer(stop_words=stop_words)\n",
    "# ccc = vectorizer.get_stop_words()\n",
    "# print(ccc)\n",
    "############ your code end ############\n",
    "X = vectorizer.fit_transform(desc)"
   ]
  },
  {
   "cell_type": "code",
   "execution_count": 10,
   "metadata": {
    "_cell_guid": "eb56971e-5412-4138-a4cd-0e14844796be",
    "_uuid": "10af64e15e2f08c30da71b847432eedc2aece199"
   },
   "outputs": [
    {
     "name": "stdout",
     "output_type": "stream",
     "text": [
      "9820\n",
      "['later', 'latest', 'latham', 'latif', 'latrobe', 'laughing', 'launceston', 'launch', 'launched', 'launches', 'laundering', 'laureates', 'laureus', 'lavender', 'laverton', 'law', 'lawful', 'lawnmowers', 'laws', 'lawyer', 'lawyers', 'lax', 'lay', 'lazaridis', 'lazio', 'lazios', 'lead', 'leader', 'leaderboard', 'leaders', 'leadership', 'leading', 'leads', 'league', 'leagues', 'leak', 'leaks', 'leaney', 'leap', 'learn', 'learner', 'learning', 'learns', 'lease', 'leases', 'leave', 'leaves', 'leaving', 'lebouc', 'lecturer', 'led', 'lee', 'leeds', 'lees', 'left', 'leg', 'legal', 'legality', 'legend', 'legionella', 'legislation', 'legislative', 'legitimacy', 'lehmann', 'leicester', 'leisel', 'leisure', 'lemon', 'lend', 'length', 'leniency', 'lennox', 'lens', 'lent', 'lenton', 'leonard', 'leone', 'leopards', 'lesbian', 'lessen', 'lester', 'let', 'lethal', 'letter', 'letters', 'letting', 'levee', 'level', 'levels', 'leven', 'leverkusen', 'levy', 'lewdness', 'lewis', 'lewiss', 'lga', 'liability', 'liable', 'liaison', 'lib']\n",
      "<class 'list'>\n"
     ]
    }
   ],
   "source": [
    "word_features = vectorizer.get_feature_names()\n",
    "print(len(word_features))\n",
    "print(word_features[5000:5100])\n",
    "print(type(word_features))"
   ]
  },
  {
   "cell_type": "markdown",
   "metadata": {
    "_cell_guid": "871b1bd6-c411-4ff6-a784-9b376a0db4e6",
    "_uuid": "e480f5b88938660f05c09f75af5f9f58d7110096"
   },
   "source": [
    "## 2.3 Stemming\n",
    "stemming 是将单词还原为词干（即词根形式）的过程。 词根形式不一定是单词本身，而是可以通过连接正确的后缀来生成单词。 例如，“fish”，“fishes”和“fishing”这几个词的词干都是“fish”，这是一个正确的单词。 另一方面，“study”，“studies”和“studying”一词源于“studi”，这不是一个正确的英语单词。\n",
    "\n",
    "## 2.4 Tokenizing\n",
    "Tokenization 将句子分解为单词和标点符号"
   ]
  },
  {
   "cell_type": "code",
   "execution_count": 11,
   "metadata": {
    "_cell_guid": "536a1a88-48a3-43d0-b368-ccf31947e5b1",
    "_uuid": "5d25104db183624b990a1d64e10cc618fd8ee715"
   },
   "outputs": [],
   "source": [
    "stemmer = SnowballStemmer('english')  # SnowballStemmer 使用方法详见： https://www.kite.com/python/docs/nltk.SnowballStemmer\n",
    "tokenizer = RegexpTokenizer(r'[a-zA-Z\\']+')  #  RegexpTokenizer 使用方法详见： https://www.kite.com/python/docs/nltk.RegexpTokenizer\n",
    "\n",
    "def tokenize(text):\n",
    "    \"\"\"先进行 stemming 然后 tokenize\n",
    "    params:\n",
    "    text: 一个句子\n",
    "    \n",
    "    return:\n",
    "    tokens 列表\n",
    "    \"\"\"\n",
    "    ############ 第三题 ～ 1行 （使用列表推导） ############ \n",
    "    ############ your code start ############\n",
    "    return [stemmer.stem(i) for i in tokenizer.tokenize(text.lower())]\n",
    "# print(tokenize(desc[1]))\n",
    "    ############ your code end ############"
   ]
  },
  {
   "cell_type": "markdown",
   "metadata": {
    "_cell_guid": "9877cf33-ebe8-46e4-b26e-c6f673617517",
    "_uuid": "d190c4d6b9cb52ad70a021e3475704538b47f85f"
   },
   "source": [
    "## 2.5  使用停用词、stemming 和自定义的 tokenizing 进行 TFIDF 向量化"
   ]
  },
  {
   "cell_type": "code",
   "execution_count": 12,
   "metadata": {
    "_cell_guid": "18e1d30c-5515-4c0d-89e4-6af99658bee3",
    "_uuid": "5fcc93fa3093f30d181ffa38b4ca46b133316952",
    "scrolled": false
   },
   "outputs": [
    {
     "name": "stderr",
     "output_type": "stream",
     "text": [
      "/opt/conda/lib/python3.7/site-packages/sklearn/feature_extraction/text.py:385: UserWarning: Your stop_words may be inconsistent with your preprocessing. Tokenizing the stop words generated tokens ['abov', 'afterward', 'alon', 'alreadi', 'alway', 'ani', 'anoth', 'anyon', 'anyth', 'anywher', 'becam', 'becaus', 'becom', 'befor', 'besid', 'cri', 'describ', 'dure', 'els', 'elsewher', 'empti', 'everi', 'everyon', 'everyth', 'everywher', 'fifti', 'forti', 'henc', 'hereaft', 'herebi', 'howev', 'hundr', 'inde', 'mani', 'meanwhil', 'moreov', 'nobodi', 'noon', 'noth', 'nowher', 'onc', 'onli', 'otherwis', 'ourselv', 'perhap', 'pleas', 'sever', 'sinc', 'sincer', 'sixti', 'someon', 'someth', 'sometim', 'somewher', 'themselv', 'thenc', 'thereaft', 'therebi', 'therefor', 'togeth', 'twelv', 'twenti', 'veri', 'whatev', 'whenc', 'whenev', 'wherea', 'whereaft', 'wherebi', 'wherev', 'whi', 'yourselv'] not in stop_words.\n",
      "  'stop_words.' % sorted(inconsistent))\n"
     ]
    },
    {
     "name": "stdout",
     "output_type": "stream",
     "text": [
      "  (0, 3504)\t0.47028298346369046\n",
      "  (0, 795)\t0.47800935013454127\n",
      "  (0, 1295)\t0.3527406536631083\n",
      "  (0, 1620)\t0.40671529945682433\n",
      "  (0, 3)\t0.5103897266692508\n",
      "  (1, 1634)\t0.5624689106666075\n",
      "  (1, 415)\t0.5404566014204457\n",
      "  (1, 6789)\t0.4863745630839579\n",
      "  (1, 55)\t0.3936688594484842\n",
      "  (2, 5941)\t0.4570333888329182\n",
      "  (2, 4747)\t0.4466705968758288\n",
      "  (2, 3068)\t0.5438776789768492\n",
      "  (2, 2476)\t0.5438776789768492\n",
      "  (3, 5133)\t0.3691573160266454\n",
      "  (3, 4428)\t0.37405530799873926\n",
      "  (3, 5883)\t0.36730286403652745\n",
      "  (3, 393)\t0.3492439928621006\n",
      "  (3, 5780)\t0.42762719445800074\n",
      "  (3, 4175)\t0.4020053743275185\n",
      "  (3, 130)\t0.3499277120692846\n",
      "  (4, 6297)\t0.4491647176936934\n",
      "  (4, 397)\t0.377570016058679\n",
      "  (4, 94)\t0.45198813071978644\n",
      "  (4, 5883)\t0.38125315411954924\n",
      "  (4, 4175)\t0.41727367777925783\n",
      "  :\t:\n",
      "  (9962, 6672)\t0.34063862918677884\n",
      "  (9962, 4545)\t0.29935113702699934\n",
      "  (9963, 3697)\t0.5383692113975304\n",
      "  (9963, 6561)\t0.35402128060750154\n",
      "  (9963, 3517)\t0.4371612932327414\n",
      "  (9963, 2639)\t0.36028665107732777\n",
      "  (9963, 2605)\t0.28128716626722144\n",
      "  (9963, 6499)\t0.32093849433444116\n",
      "  (9963, 4545)\t0.2859843890817912\n",
      "  (9964, 1858)\t0.5049322838653669\n",
      "  (9964, 1224)\t0.3756233783048205\n",
      "  (9964, 4051)\t0.4380565689556203\n",
      "  (9964, 6561)\t0.36564918362651594\n",
      "  (9964, 4246)\t0.3531391457581436\n",
      "  (9964, 3451)\t0.39198255958993783\n",
      "  (9965, 6674)\t0.42997694426532546\n",
      "  (9965, 5980)\t0.4393760096564168\n",
      "  (9965, 6281)\t0.36399547222202355\n",
      "  (9965, 5721)\t0.40862548927494435\n",
      "  (9965, 552)\t0.4258073624339176\n",
      "  (9965, 6096)\t0.3758844840538201\n",
      "  (9966, 2485)\t0.6573022514599245\n",
      "  (9966, 6812)\t0.4528478608134016\n",
      "  (9966, 5899)\t0.4635017807650033\n",
      "  (9966, 6672)\t0.38477092459034795\n",
      "6909\n",
      "['aa', 'aac', 'ab', 'aba', 'abalon', 'abandon', 'abar', 'abattoir', 'abbott', 'abc', 'abdic', 'abduct', 'abid', 'abigroup', 'abil', 'abl', 'ablaz', 'aboard', 'abolit', 'aborigin', 'abort', 'abov', 'abreast', 'abroad', 'absenc', 'absent', 'abu', 'abund', 'abus', 'abysm', 'ac', 'aca', 'academ', 'academi', 'acapulco', 'acb', 'accc', 'accent', 'accept', 'access', 'accid', 'accident', 'accommod', 'account', 'accredit', 'accus', 'ace', 'aceh', 'achiev', 'acid']\n"
     ]
    }
   ],
   "source": [
    "vectorizer2 = TfidfVectorizer(stop_words = stop_words, tokenizer = tokenize)\n",
    "X2 = vectorizer2.fit_transform(desc)\n",
    "word_features2 = vectorizer2.get_feature_names()\n",
    "print(X2)\n",
    "print(len(word_features2))\n",
    "print(word_features2[:50]) "
   ]
  },
  {
   "cell_type": "code",
   "execution_count": 16,
   "metadata": {
    "_cell_guid": "acdc11f4-7b5c-4aee-8c42-1a752bffbc2e",
    "_uuid": "244a3015e5b4f4f84c174586fa875f5cf49cff1d"
   },
   "outputs": [
    {
     "name": "stderr",
     "output_type": "stream",
     "text": [
      "/opt/conda/lib/python3.7/site-packages/sklearn/feature_extraction/text.py:385: UserWarning: Your stop_words may be inconsistent with your preprocessing. Tokenizing the stop words generated tokens ['abov', 'afterward', 'alon', 'alreadi', 'alway', 'ani', 'anoth', 'anyon', 'anyth', 'anywher', 'becam', 'becaus', 'becom', 'befor', 'besid', 'cri', 'describ', 'dure', 'els', 'elsewher', 'empti', 'everi', 'everyon', 'everyth', 'everywher', 'fifti', 'forti', 'henc', 'hereaft', 'herebi', 'howev', 'hundr', 'inde', 'mani', 'meanwhil', 'moreov', 'nobodi', 'noon', 'noth', 'nowher', 'onc', 'onli', 'otherwis', 'ourselv', 'perhap', 'pleas', 'sever', 'sinc', 'sincer', 'sixti', 'someon', 'someth', 'sometim', 'somewher', 'themselv', 'thenc', 'thereaft', 'therebi', 'therefor', 'togeth', 'twelv', 'twenti', 'veri', 'whatev', 'whenc', 'whenev', 'wherea', 'whereaft', 'wherebi', 'wherev', 'whi', 'yourselv'] not in stop_words.\n",
      "  'stop_words.' % sorted(inconsistent))\n"
     ]
    },
    {
     "name": "stdout",
     "output_type": "stream",
     "text": [
      "['abattoir', 'aborigin', 'abus', 'accc', 'accept', 'access', 'accid', 'accus', 'act', 'action', 'ad', 'address', 'adelaid', 'adf', 'admit', 'advanc', 'affect', 'afl', 'africa', 'age', 'agre', 'agreement', 'ahead', 'aid', 'aim', 'air', 'airlin', 'airport', 'ajax', 'al', 'alert', 'alic', 'aliv', 'alleg', 'allow', 'alp', 'ama', 'ambassador', 'ambul', 'american', 'amid', 'amp', 'announc', 'anoth', 'answer', 'anti', 'apologis', 'appeal', 'appoint', 'approv', 'arab', 'area', 'arm', 'armi', 'arrest', 'arriv', 'arsenal', 'art', 'ask', 'assault', 'assess', 'assist', 'assur', 'asylum', 'atsic', 'attack', 'attempt', 'attend', 'aussi', 'aust', 'australia', 'australian', 'author', 'avoid', 'await', 'award', 'away', 'babi', 'baghdad', 'bail', 'bali', 'ban', 'bangladesh', 'bank', 'base', 'basra', 'battl', 'bay', 'beach', 'beat', 'becom', 'beef', 'befor', 'begin', 'best', 'better', 'bid', 'big', 'billion', 'black', 'blair', 'blame', 'blast', 'blaze', 'blix', 'block', 'blow', 'blue', 'board', 'boat', 'bodi', 'bomb', 'bomber', 'boost', 'border', 'boss', 'boy', 'brawl', 'break', 'bridg', 'bring', 'brisban', 'britain', 'british', 'brogden', 'broken', 'brumbi', 'budget', 'build', 'bull', 'burn', 'bus', 'bush', 'bushfir', 'busi', 'cabinet', 'cairn', 'cameraman', 'campaign', 'canberra', 'cancel', 'cancer', 'candid', 'cannabi', 'cap', 'captain', 'captur', 'car', 'care', 'carr', 'case', 'cash', 'cat', 'caus', 'celebr', 'centr', 'central', 'ceo', 'challeng', 'champ', 'champion', 'championship', 'chanc', 'chang', 'charg', 'chase', 'chemic', 'chief', 'child', 'children', 'china', 'chines', 'chopper', 'church', 'citi', 'civilian', 'claim', 'clash', 'class', 'clean', 'clear', 'close', 'closer', 'closur', 'club', 'coach', 'coalit', 'coast', 'come', 'comeback', 'command', 'comment', 'commit', 'communiti', 'compani', 'complet', 'compo', 'concern', 'condemn', 'condit', 'confer', 'confid', 'confirm', 'conflict', 'consid', 'contain', 'continu', 'contract', 'control', 'convict', 'cop', 'coron', 'corrupt', 'cost', 'council', 'councillor', 'countri', 'coupl', 'cours', 'court', 'crack', 'crash', 'crean', 'crew', 'cricket', 'crime', 'crisi', 'critic', 'criticis', 'croc', 'crop', 'cross', 'crow', 'cruis', 'crusad', 'crush', 'cup', 'cut', 'cwealth', 'cyclon', 'dam', 'damag', 'danger', 'darwin', 'date', 'davi', 'day', 'dead', 'deadlin', 'deal', 'death', 'debat', 'decid', 'decis', 'declar', 'defeat', 'defenc', 'defend', 'delay', 'demand', 'democrat', 'dengu', 'deni', 'dept', 'deputi', 'despit', 'destroy', 'detain', 'develop', 'die', 'differ', 'diplomat', 'disappoint', 'disast', 'discuss', 'dismiss', 'disput', 'divis', 'doctor', 'dog', 'dollar', 'domest', 'dont', 'dope', 'doubl', 'doubt', 'downer', 'draft', 'draw', 'drink', 'drive', 'driver', 'drop', 'drought', 'drug', 'dubai', 'dump', 'dure', 'e', 'earli', 'eas', 'east', 'easter', 'edg', 'educ', 'effort', 'el', 'elect', 'embassi', 'emerg', 'end', 'england', 'enter', 'environ', 'escap', 'event', 'evid', 'execut', 'expect', 'expel', 'expert', 'explor', 'explos', 'export', 'extend', 'eye', 'face', 'fail', 'fall', 'famili', 'fan', 'farm', 'farmer', 'fast', 'fatal', 'fear', 'fed', 'feder', 'feel', 'festiv', 'fever', 'field', 'fight', 'figur', 'film', 'final', 'fine', 'finish', 'firefight', 'firm', 'fish', 'flag', 'fli', 'flight', 'flood', 'florida', 'flow', 'focus', 'food', 'forc', 'foreign', 'forest', 'form', 'forum', 'fourth', 'franc', 'fraud', 'free', 'freeman', 'french', 'fresh', 'friend', 'fuel', 'fund', 'futur', 'gain', 'game', 'ganguli', 'gas', 'gaza', 'general', 'german', 'giant', 'girl', 'given', 'glori', 'gm', 'goal', 'goe', 'gold', 'good', 'govern', 'govt', 'grand', 'grant', 'green', 'ground', 'group', 'grow', 'growth', 'guard', 'guilti', 'gulf', 'gun', 'hackett', 'hail', 'half', 'hand', 'harvest', 'hat', 'hawk', 'head', 'health', 'hear', 'heart', 'heat', 'held', 'helicopt', 'help', 'hewitt', 'high', 'highlight', 'highway', 'hijack', 'hill', 'histor', 'hit', 'hold', 'home', 'hong', 'honour', 'hope', 'hospit', 'host', 'hotel', 'hous', 'howard', 'huge', 'human', 'hundr', 'hunt', 'hunter', 'hurt', 'ill', 'illeg', 'impact', 'improv', 'incid', 'increas', 'india', 'indian', 'indigen', 'indonesia', 'indonesian', 'indoor', 'industri', 'injur', 'injuri', 'inquest', 'inquiri', 'inspector', 'insur', 'inter', 'intern', 'invas', 'investig', 'iran', 'iraq', 'iraqi', 'ireland', 'irrig', 'island', 'isra', 'israel', 'issu', 'jail', 'japan', 'japanes', 'jet', 'job', 'join', 'jone', 'journalist', 'judg', 'jump', 'kenya', 'key', 'kick', 'kill', 'killer', 'king', 'kiwi', 'knight', 'kong', 'korea', 'korean', 'kurd', 'kuwait', 'labor', 'land', 'lanka', 'late', 'latest', 'launch', 'law', 'lawyer', 'lead', 'leader', 'leadership', 'leagu', 'leav', 'lee', 'leed', 'legal', 'legisl', 'level', 'levi', 'lib', 'liber', 'life', 'lifesav', 'lift', 'light', 'like', 'limit', 'line', 'link', 'lion', 'list', 'littl', 'live', 'liverpool', 'lobbi', 'local', 'long', 'look', 'loom', 'lose', 'loss', 'low', 'lower', 'm', 'major', 'make', 'man', 'manag', 'march', 'marin', 'mark', 'market', 'massiv', 'master', 'match', 'mayor', 'mean', 'media', 'medic', 'meet', 'melbourn', 'member', 'men', 'merger', 'miami', 'mid', 'milan', 'mildura', 'militari', 'million', 'miner', 'minist', 'miss', 'missil', 'mission', 'money', 'monitor', 'month', 'mp', 'mps', 'murder', 'mysteri', 'n', 'nat', 'nation', 'navi', 'near', 'need', 'net', 'new', 'newcastl', 'nightclub', 'nomin', 'north', 'northern', 'nsw', 'nt', 'nth', 'nuclear', 'number', 'nurs', 'nz', 'offenc', 'offer', 'offic', 'offici', 'oil', 'old', 'olonga', 'olymp', 'onli', 'open', 'oper', 'opp', 'oppn', 'oppos', 'opposit', 'order', 'outbreak', 'outsid', 'owner', 'pair', 'pakistan', 'palestinian', 'parent', 'park', 'parliament', 'parti', 'patient', 'pay', 'payment', 'payout', 'pc', 'peac', 'penalti', 'pentagon', 'peopl', 'perth', 'petrol', 'philippin', 'phillip', 'phone', 'pilot', 'place', 'plan', 'plane', 'plant', 'play', 'player', 'plead', 'pledg', 'pm', 'pms', 'pneumonia', 'png', 'point', 'polic', 'polici', 'polit', 'politician', 'poll', 'pont', 'pool', 'popul', 'port', 'posit', 'possibl', 'post', 'potenti', 'pow', 'powel', 'power', 'prais', 'predict', 'prefer', 'premier', 'prepar', 'presid', 'pressur', 'prevent', 'price', 'prison', 'probe', 'problem', 'produc', 'profit', 'program', 'project', 'promis', 'prompt', 'properti', 'propos', 'protect', 'protest', 'prove', 'public', 'pull', 'push', 'qaeda', 'qanta', 'qld', 'qualifi', 'quarantin', 'quarter', 'question', 'quit', 'race', 'raid', 'rail', 'rain', 'rainfal', 'rais', 'ralli', 'rape', 'rare', 'rate', 'reach', 'readi', 'real', 'rebel', 'receiv', 'record', 'recov', 'red', 'reduc', 'reform', 'refuge', 'refus', 'region', 'reject', 'releas', 'relief', 'remain', 'reopen', 'replac', 'report', 'rescu', 'research', 'resid', 'resign', 'resolut', 'respons', 'restor', 'restrict', 'result', 'resum', 'retail', 'retain', 'retir', 'return', 'reveal', 'review', 'right', 'rise', 'risk', 'river', 'road', 'rock', 'role', 'roll', 'roo', 'round', 'rout', 'row', 'rule', 'rumsfeld', 'run', 'rural', 'russia', 'russian', 's', 'sa', 'sack', 'saddam', 'safe', 'safeti', 'sale', 'sar', 'sas', 'saudi', 'save', 'say', 'scare', 'scheme', 'school', 'schumach', 'score', 'scrap', 'scud', 'sea', 'search', 'season', 'seat', 'second', 'secur', 'seek', 'seiz', 'semi', 'senat', 'send', 'sentenc', 'servic', 'set', 'seven', 'sever', 'sex', 'share', 'sharehold', 'shark', 'shield', 'ship', 'shire', 'shock', 'shoot', 'shop', 'short', 'shortag', 'shot', 'sign', 'sink', 'site', 'slam', 'slow', 'small', 'smash', 'smoke', 'soldier', 'soon', 'sought', 'south', 'southern', 'spark', 'speak', 'speed', 'spi', 'spill', 'split', 'sport', 'spot', 'squad', 'sri', 'st', 'stab', 'staff', 'stage', 'stanc', 'stand', 'star', 'start', 'state', 'station', 'stay', 'step', 'stock', 'stolen', 'stop', 'storm', 'strategi', 'streak', 'street', 'strike', 'striker', 'strong', 'struggl', 'student', 'studi', 'stun', 'success', 'suffer', 'suicid', 'summit', 'super', 'suppli', 'support', 'surpris', 'surrend', 'survey', 'surviv', 'suspect', 'suspend', 'swim', 'sydney', 'syria', 'talk', 'tank', 'target', 'tas', 'tasmanian', 'tax', 'teacher', 'team', 'teen', 'teenag', 'tell', 'telstra', 'term', 'terror', 'terrorist', 'test', 'theft', 'thorp', 'thousand', 'threat', 'threaten', 'thriller', 'tiger', 'time', 'timor', 'titl', 'today', 'toddler', 'told', 'toll', 'tough', 'tour', 'tourism', 'tourist', 'town', 'track', 'trade', 'train', 'transport', 'travel', 'treati', 'treatment', 'tri', 'trial', 'tribut', 'trick', 'trip', 'troop', 'truck', 'turkey', 'turkish', 'turn', 'tv', 'u', 'uk', 'underway', 'unhappi', 'uni', 'union', 'unit', 'unlik', 'upbeat', 'upgrad', 'upset', 'urg', 'use', 'vaccin', 'valencia', 'vic', 'victim', 'victori', 'victoria', 'victorian', 'violenc', 'virus', 'visit', 'vote', 'vow', 'wa', 'wait', 'walk', 'want', 'war', 'waratah', 'warn', 'wast', 'water', 'waterfal', 'waugh', 'way', 'weapon', 'weather', 'week', 'weekend', 'welcom', 'west', 'western', 'wheat', 'wide', 'wife', 'win', 'wind', 'windi', 'wine', 'wit', 'withdraw', 'woe', 'woman', 'women', 'wont', 'wood', 'work', 'worker', 'world', 'wound', 'year', 'youth', 'zimbabw', 'zone']\n"
     ]
    }
   ],
   "source": [
    "vectorizer3 = TfidfVectorizer(stop_words = stop_words, tokenizer = tokenize, max_features = 1000)\n",
    "X3 = vectorizer3.fit_transform(desc)\n",
    "words = vectorizer3.get_feature_names()\n",
    "print(words)"
   ]
  },
  {
   "cell_type": "markdown",
   "metadata": {
    "_cell_guid": "e8a8c1ed-8970-49e0-bae5-0e0d85abea84",
    "_uuid": "b5f2e66c25d17527b78ae1a1fe174f1ac6310286"
   },
   "source": [
    "# 3 K-Means 聚类"
   ]
  },
  {
   "cell_type": "markdown",
   "metadata": {
    "_cell_guid": "c9a1312e-45f7-44e4-9407-13012bdf97ce",
    "_uuid": "39ba3fa0f53454111495da2f7e7719572afec93a"
   },
   "source": [
    "## 3.1 使用手肘法选择聚类簇的数量\n",
    "随着聚类数k的增大,样本划分会更加的精细,每个簇的聚合程度会逐渐提高,那么误差平方和SSE自然会逐渐变小,并且当k小于真实的簇类数时,由于k的增大会大幅增加每个簇的聚合程度,因此SSE的下降幅度会很大,而当k到达真实聚类数时,再增加k所得到的聚合程度回报会迅速变小,所以SSE的下降幅度会骤减,然后随着k值的继续增大而趋于平缓,也就是说SSE和k的关系类似于手肘的形状,而这个肘部对应的k值就是数据的真实聚类数.因此这种方法被称为手肘法."
   ]
  },
  {
   "cell_type": "code",
   "execution_count": 14,
   "metadata": {
    "_cell_guid": "c72b26ab-4bef-44e6-b854-5bca3cd1f217",
    "_uuid": "992bea80b2647c4f4e564bb020ce8eab07db6b78",
    "scrolled": true
   },
   "outputs": [
    {
     "data": {
      "image/png": "[encoded data removed]",
      "text/plain": [
       "<Figure size 432x288 with 1 Axes>"
      ]
     },
     "metadata": {
      "needs_background": "light"
     },
     "output_type": "display_data"
    }
   ],
   "source": [
    "from sklearn.cluster import KMeans  # 使用方法详见： http://scikit-learn.org/stable/modules/generated/sklearn.cluster.KMeans.html\n",
    "wcss = []\n",
    "for i in range(1,11):\n",
    "    ############ 第四题 ～ 1行 （初始化 KMeans） ############ \n",
    "    ############ your code start ############     \n",
    "    kmeans = KMeans(n_clusters=i,init='k-means++',max_iter=100)\n",
    "    ############ your code end ############\n",
    "    kmeans.fit(X3)\n",
    "    wcss.append(kmeans.inertia_)\n",
    "plt.plot(range(1,11),wcss)\n",
    "plt.title('The Elbow Method')\n",
    "plt.xlabel('Number of clusters')\n",
    "plt.ylabel('WCSS')\n",
    "plt.savefig('elbow.png')\n",
    "plt.show()"
   ]
  },
  {
   "cell_type": "markdown",
   "metadata": {
    "_cell_guid": "2dd63611-35d6-4c6e-b076-c10e18a3b10c",
    "_uuid": "d5184cf4e47df719970d89c5ea8e15d4b9eaa1e5"
   },
   "source": [
    "由于可能产生多个肘点，所以有时候不得不通过反复试验来选择合适数量的簇。下面展示不同数量簇的结果，以找出合适数量的簇。"
   ]
  },
  {
   "cell_type": "code",
   "execution_count": 26,
   "metadata": {
    "_cell_guid": "e096b262-a06c-4f0a-9c50-2ef4bda9b926",
    "_uuid": "0ed982322b3a0fecb997e88ef0fb2f681c5a801c",
    "scrolled": false
   },
   "outputs": [
    {
     "name": "stdout",
     "output_type": "stream",
     "text": [
      "['death', 'debat', 'decid', 'decis', 'declar', 'defeat', 'defenc', 'defend', 'delay', 'demand', 'democrat', 'dengu', 'deni', 'dept', 'deputi', 'despit', 'destroy', 'detain', 'develop', 'die', 'differ', 'diplomat', 'disappoint', 'disast', 'discuss', 'dismiss', 'disput', 'divis', 'doctor', 'dog', 'dollar', 'domest', 'dont', 'dope', 'doubl', 'doubt', 'downer', 'draft', 'draw', 'drink', 'drive', 'driver', 'drop', 'drought', 'drug', 'dubai', 'dump', 'dure', 'e', 'earli']\n"
     ]
    }
   ],
   "source": [
    "print(words[250:300])"
   ]
  },
  {
   "cell_type": "markdown",
   "metadata": {
    "_cell_guid": "a3c414e5-70b2-4c63-a46a-f9c82e406e4b",
    "_uuid": "6992f369b10d54adf27ecdcf24c6f57deabf466f"
   },
   "source": [
    "## 3.2 Clusters 等于 3"
   ]
  },
  {
   "cell_type": "code",
   "execution_count": 43,
   "metadata": {
    "_cell_guid": "b395dddc-8acb-40a8-825e-a6f3a615809e",
    "_uuid": "e0e187a022ec9032385f715d87cfbb865a11698d",
    "scrolled": false
   },
   "outputs": [
    {
     "name": "stdout",
     "output_type": "stream",
     "text": [
      "[[963 642 392 ... 363 835 724]\n",
      " [654 680 544 ... 274 273 172]\n",
      " [467 963 779 ... 864 276 273]]\n",
      "499\n",
      "0 : war, plan, govt, new, man, win, council, iraqi, say, claim, charg, warn, protest, baghdad, report, world, fund, urg, kill, court, water, face, nsw, death, rain, anti, set, cup, open, lead, hospit, hope, continu, troop, crash, qld, concern, forc, hit, miss, ban, meet, boost, final, australia, attack, air, group, die, drought, farmer, health, support, aust, fight, end, bomb, north, mp, consid, year, dead, elect, saddam, offer, welcom, coast, wa, green, seek, chang, vic, secur, union, return, race, sar, centr, record, titl, murder, clash, injur, pm, communiti, job, m, deni, hous, australian, begin, strike, rule, woman, act, work, jail, home, minist, expect, help, trial, make, car, bushfir, test, public, investig, rise, defend, worker, season, korea, land, hold, case, nation, industri, oil, servic, resid, head, coalit, day, play, start, peac, announc, clear, price, issu, road, nt, cut, howard, pay, want, aussi, talk, england, decis, match, sa, blast, market, appeal, china, fear, ahead, mayor, toll, melbourn, missil, turn, south, british, blue, port, drug, critic, accus, probe, school, tas, turkey, lose, reject, hear, look, close, high, carr, leav, launch, parti, cost, inquiri, doctor, red, question, ralli, tour, power, indigen, campaign, studi, famili, plane, arrest, labor, break, injuri, releas, flood, time, rail, vote, fall, park, busi, rate, aid, develop, suspect, bush, brisban, push, king, stay, student, restrict, gold, target, trade, west, second, defenc, delay, accid, big, despit, soldier, unit, confid, need, leader, semi, player, battl, run, use, hand, sydney, train, teacher, wont, impact, review, river, gas, week, offic, action, cyclon, club, law, victori, state, east, victim, shire, deal, caus, threaten, loss, region, storm, bid, low, india, project, award, remain, increas, pakistan, send, draw, threat, candid, highlight, game, offici, downer, pressur, parliament, safeti, drop, team, tourism, indian, search, rock, adelaid, chief, al, raid, sex, coach, near, feder, advanc, crean, promis, women, tourist, farm, futur, discuss, local, marin, tiger, order, terror, posit, shark, presid, problem, build, basra, airport, championship, doubl, opposit, blaze, virus, prepar, guilti, crime, nz, manag, uk, doubt, qualifi, predict, clean, aim, free, blame, quit, stop, age, stab, fish, shoot, firefight, arsenal, stage, readi, bank, driver, tv, canberra, good, ask, spark, profit, fine, held, thorp, palestinian, cross, disast, assault, poll, spill, black, destroy, leagu, million, hewitt, kenya, suppli, best, militari, spot, figur, child, right, confirm, join, compani, zimbabw, bodi, hill, reach, bring, march, festiv, damag, polici, protect, chemic, stand, care, franc, month, woe, focus, withdraw, sign, real, firm, approv, stock, oper, declar, site, life, gm, risk, shot, save, suicid, point, resolut, star, island, qanta, sentenc, alleg, reform, underway, share, prison, visit, board, gulf, french, pneumonia, program, israel, fail, major, owner, crow, come, like, appoint, anoth, boat, area, way, decid, possibl, sack, scheme, defeat, tell, dismiss, helicopt, youth, pledg, dollar, nat, cancer, rural, qaeda, bomber, seat, educ, pilot, wast, number, telstra, confer, improv, guard, pont, transport, timor, japan, research, n, human, celebr, extend, author, condemn, staff, waugh, plant, debat, track, row, explos, boy, nurs, prais, summit, effort, upgrad, retir, el, journalist, rais, britain, fuel, intern, opp, compo, emerg, rescu, afl, flight, super, media, forum, sport, refuge\n",
      "1 : polic, probe, man, arrest, search, death, investig, murder, charg, drug, stab, wa, cannabi, station, fatal, car, protest, miss, victim, road, suspect, driver, nt, corrupt, new, crash, bodi, shoot, hunt, assault, anti, theft, raid, clash, help, seek, hous, oper, alleg, vic, doubl, court, threat, darwin, question, offic, wit, remain, crack, face, coast, welcom, continu, safeti, drink, urg, chase, kill, crop, chief, zimbabw, plant, stolen, confirm, plan, use, home, nsw, servic, opposit, mp, sydney, sex, woman, speak, make, secur, work, sa, war, pair, evid, hunter, success, outsid, seiz, guard, drive, accus, claim, admit, offer, brawl, beat, shop, blaze, link, march, trade, say, unit, launch, attack, want, terror, fear, union, govt, issu, defend, pms, indonesian, food, spark, case, incid, escap, wife, fight, inquiri, oppn, jail, lawyer, teen, warn, firefight, recov, violenc, net, student, truck, southern, scheme, prompt, abus, despit, perth, intern, minist, ask, announc, bridg, execut, hotel, accid, rate, nightclub, review, inspector, detain, look, releas, gold, properti, park, killer, domest, aborigin, emerg, famili, teenag, dure, phone, close, train, toddler, women, hold, set, promis, attempt, boost, wont, time, run, weapon, qld, uk, prepar, leader, reject, weekend, target, sentenc, return, hit, pm, hospit, injur, stage, presid, public, year, water, away, criticis, alert, countri, fuel, step, caus, sea, shot, appeal, helicopt, problem, rail, invas, shire, victoria, mildura, dismiss, save, wound, injuri, danger, child, prais, lib, assist, refus, indian, men, parent, rise, popul, russia, coupl, surrend, inquest, canberra, babi, fine, safe, support, abattoir, boy, turkey, coron, flood, shock, airport, restrict, offenc, avoid, possibl, near, farm, area, squad, reopen, told, concern, declar, marin, tax, effort, polici, highway, pledg, pilot, children, head, plead, battl, edg, opp, plane, polit, forest, human, korean, embassi, test, break, atsic, potenti, pressur, gain, end, crime, bank, terrorist, tv, care, green, decis, speed, today, second, spot, saudi, cross, respons, chanc, nat, ralli, begin, come, drop, power, nz, china, old, improv, parti, order, river, illeg, mps, threaten, pay, red, guilti, candid, peopl, long, coalit, report, land, aid, bali, bomber, rule, group, anoth, tas, life, confid, south, smoke, lead, deni, open, high, tour, campaign, list, meet, figur, tell, win, north, hope, thorp, crisi, critic, civilian, term, treati, croc, treatment, cricket, crew, crean, telstra, thousand, crusad, crow, cruis, day, davi, date, teacher, team, church, damag, dam, cyclon, citi, cwealth, cut, cup, crush, tiger, thriller, travel, cours, comment, tourist, compo, complet, compani, communiti, clear, commit, command, condit, comeback, town, track, transport, coach, club, closur, condemn, confer, timor, cop, closer, councillor, council, cost, toll, dead, tough, class, clean, convict, control, contract, contain, consid, conflict, tourism, titl, decid, deadlin, england, strong, struggl, elect, el, studi, educ, stun, easter, east, eas, earli, e, suffer, dump, dubai, suicid, drought, striker, enter, deal, environ, fan, storm, fall, fail, strategi, eye, extend, export, explos, explor, expert, expel, expect, streak, street, event, strike, summit, super, suppli, surpris, develop, swim, destroy, syria, deputi, dept, dengu, democrat, demand, delay, talk, defenc, defeat, tank, chines, debat, tasmanian, die, differ, diplomat, surviv, draw, draft, downer, doubt, survey, dope, dont, dollar, disappoint, dog, doctor, divis, disput, suspend, discuss, disast, chopper\n",
      "2 : iraq, war, say, missil, troop, howard, deni, post, blair, bush, destroy, pm, report, bomb, british, attack, forc, kill, turkey, aid, warn, tv, resolut, blix, uk, kuwait, downer, soldier, coalit, wheat, suicid, arab, syria, weapon, baghdad, aust, oil, stay, bali, reject, leav, support, link, franc, secur, inspector, fail, protest, civilian, claim, tell, peac, militari, britain, shield, debat, defend, reach, australian, saddam, n, urg, ban, northern, ship, confirm, human, fear, council, conflict, terror, control, turkish, cameraman, talk, al, condemn, australia, crisi, trade, wont, market, leader, new, zone, spi, action, meet, make, border, prepar, powel, russia, expect, threaten, indonesian, case, hill, battl, head, begin, phone, southern, govt, ralli, bomber, helicopt, set, avoid, stop, declar, ambassador, want, remain, agre, chemic, earli, food, continu, threat, pentagon, miss, readi, issu, decis, rule, send, expel, dead, crean, stanc, china, sas, strike, deadlin, opposit, refus, plane, marin, surrend, demand, western, wound, deal, poll, fight, divis, journalist, end, scrap, start, port, short, crew, draft, invas, hit, commit, time, ground, plan, guard, arm, fli, affect, help, suppli, delay, open, korea, shot, push, media, lose, seek, hold, nation, oppos, use, vote, minist, oper, labor, list, work, campaign, drop, farmer, resign, day, hawk, nz, air, group, rise, offer, resum, refuge, diplomat, billion, israel, friend, man, long, citi, cricket, withdraw, role, adf, famili, address, fuel, state, futur, kurd, order, consid, site, firefight, enter, posit, iran, face, line, cost, accus, team, tour, differ, lead, fresh, strategi, come, unlik, tourism, rumsfeld, vow, polit, saudi, near, bring, prais, stage, illeg, soon, dismiss, parliament, south, march, embassi, launch, win, discuss, offici, agreement, contract, industri, game, latest, blast, north, appeal, assault, armi, toll, raid, hope, confid, victim, export, govern, test, death, advanc, victori, water, world, produc, crash, lee, hurt, woman, perth, defeat, iraqi, plead, councillor, shock, author, shoot, boy, small, suspend, limit, mean, award, expert, fast, predict, presid, fall, pay, deputi, bodi, real, airport, hous, pow, black, major, crusad, chopper, light, russian, result, onli, lobbi, tasmanian, burn, split, foreign, drink, arriv, weekend, summit, command, french, opp, form, way, parent, eas, million, bridg, prison, nth, upbeat, trip, olymp, truck, held, target, pakistan, protect, ask, democrat, access, track, comment, pull, told, polici, pms, petrol, children, s, forum, decid, cours, cabinet, american, anoth, detain, bid, execut, fed, grow, tough, staff, allow, clean, heat, stand, join, terrorist, suspect, england, danger, central, sale, countri, increas, virus, announc, like, rural, today, scud, beat, basra, seven, loom, cruis, complet, church, row, play, captur, mps, senat, legal, amid, japan, welcom, budget, week, chang, defenc, propos, ad, captain, alert, land, prevent, palestinian, quit, criticis, price, cross, alleg, focus, unit, host, clash, blame, massiv, second, pilot, green, run, eye, parti, rescu, mysteri, receiv, base, dubai, develop, board, final, close, program, impact, gas, student, aliv, safeti, adelaid, injur, school, high, sar, general, chief, car, concern, mp, save, worker, road, doctor, sa, murder, die, rain, health, home, wa, ceo, schumach, despit, score, class, strong, clear, dept, closer, closur, club, sea, coach, dengu, search, striker, season, seat, coast, street, comeback, streak, storm, seiz, semi, struggl, studi, surviv, stun, disput, disast\n"
     ]
    }
   ],
   "source": [
    "kmeans = KMeans(n_clusters = 3, n_init = 20, n_jobs = 1) # n_init(number of iterations for clsutering) n_jobs(number of cpu cores to use)\n",
    "kmeans.fit(X3)\n",
    "# We look at 3 the clusters generated by k-means.\n",
    "# argsort 使用方法详见： https://numpy.org/doc/stable/reference/generated/numpy.argsort.html\n",
    "\n",
    "common_words = kmeans.cluster_centers_.argsort()[:,-1:-500:-1]\n",
    "print(common_words)\n",
    "print(len(common_words[1]))\n",
    "for num, centroid in enumerate(common_words):\n",
    "    print(str(num) + ' : ' + ', '.join(words[word] for word in centroid))"
   ]
  },
  {
   "cell_type": "code",
   "execution_count": 46,
   "metadata": {},
   "outputs": [
    {
     "ename": "SyntaxError",
     "evalue": "unexpected EOF while parsing (<ipython-input-46-bd7e5f1fe29f>, line 2)",
     "output_type": "error",
     "traceback": [
      "\u001b[0;36m  File \u001b[0;32m\"<ipython-input-46-bd7e5f1fe29f>\"\u001b[0;36m, line \u001b[0;32m2\u001b[0m\n\u001b[0;31m    print(type(kmeans.fit(X3))\u001b[0m\n\u001b[0m                              ^\u001b[0m\n\u001b[0;31mSyntaxError\u001b[0m\u001b[0;31m:\u001b[0m unexpected EOF while parsing\n"
     ]
    }
   ],
   "source": [
    "print(kmeans.cluster_centers_.argsort()[:,-1:-26:-1])"
   ]
  },
  {
   "cell_type": "markdown",
   "metadata": {
    "_cell_guid": "05f80701-83af-49c1-a7b8-df8c20396bb9",
    "_uuid": "4750051c6cbdc6d262f31a94f5c4776eb020644a"
   },
   "source": [
    "## 3.3 Clusters 等于 5"
   ]
  },
  {
   "cell_type": "code",
   "execution_count": 32,
   "metadata": {
    "_cell_guid": "137b7e2c-970f-4f2f-929e-c7b2bd2a8004",
    "_uuid": "2813cee7e61b966b179b806d29b222c55551ee35",
    "scrolled": false
   },
   "outputs": [
    {
     "name": "stdout",
     "output_type": "stream",
     "text": [
      "0:plan,new,council,iraqi,say,claim,warn,baghdad,report,world,kill,water,rain,urg,cup,set,death,crash,continu,hope,nsw,open,troop,concern,lead\n",
      "1:iraq,polic,man,charg,murder,face,court,say,probe,stab,death,arrest,miss,missil,search,attack,jail,kill,car,drug,assault,fatal,bomb,troop,investig\n",
      "2:war,protest,anti,iraq,howard,ralli,pm,post,say,student,plan,fear,condemn,iraqi,bush,market,thousand,march,deni,warn,downer,start,end,stage,peac\n",
      "3:win,lead,season,fan,m,goal,india,award,open,hope,tiger,championship,world,gold,return,titl,thriller,cup,coast,stage,streak,best,case,celebr,waratah\n",
      "4:govt,fund,vic,nsw,sa,urg,boost,qld,wa,local,drought,say,help,claim,consid,council,tas,plan,road,nt,reject,fed,project,announc,hospit\n"
     ]
    }
   ],
   "source": [
    "############ 第五题 ############ \n",
    "\n",
    "kmeans = KMeans(n_clusters=5, n_init = 20, n_jobs = 1)\n",
    "kmeans.fit(X3)\n",
    "c = kmeans.cluster_centers_.argsort()[:,-1:-26:-1]\n",
    "for i,j in enumerate(c):\n",
    "    print(str(i) +':'+','.join(words[k] for k in j))\n",
    "# 重复上面的做法，仅改变聚类簇的数量 (尝试将上述过程封装成一个函数，减少代码的重读性，方便传参调用)"
   ]
  },
  {
   "cell_type": "markdown",
   "metadata": {
    "_cell_guid": "e5ab0cdc-1178-486d-a982-3457aa69d234",
    "_uuid": "4faeeea430f9f679a594b2c7f1ef1c857611ade5"
   },
   "source": [
    "## 3.4 Clusters 等于 6"
   ]
  },
  {
   "cell_type": "code",
   "execution_count": 48,
   "metadata": {
    "_cell_guid": "de4d9fbb-2462-4491-899f-b1e28e1a7697",
    "_uuid": "73c1c5bfafe12fd9bd57ab0c3bd07f60630f05a8"
   },
   "outputs": [
    {
     "name": "stdout",
     "output_type": "stream",
     "text": [
      "0:war,iraqi,say,baghdad,protest,anti,pm,howard,forc,troop,ralli,coalit,bomb,kill,missil,student,diplomat,attack,warn,peac,report,crean,govt,march,market\n",
      "1:win,govt,new,council,claim,warn,world,fund,nsw,urg,report,rain,cup,set,kill,lead,water,hope,death,open,court,crash,final,continu,boost\n",
      "2:plan,water,protest,shire,war,council,new,park,govt,manag,anti,firm,green,begin,m,welcom,merger,defend,health,rail,land,union,farmer,station,burn\n",
      "3:concern,air,job,union,cut,strike,worker,health,qld,govt,safeti,chang,group,fear,open,meet,fund,council,report,mp,educ,forc,seek,hospit,dept\n",
      "4:iraq,war,say,missil,troop,howard,deni,post,blair,bush,destroy,pm,report,bomb,british,attack,forc,kill,turkey,aid,warn,tv,resolut,blix,uk\n",
      "5:polic,man,charg,murder,probe,court,face,arrest,stab,death,search,jail,miss,car,fatal,drug,investig,assault,wa,crash,accid,cannabi,station,attack,hospit\n"
     ]
    }
   ],
   "source": [
    "# 同上\n",
    "kmeans = KMeans(n_clusters=6,init='k-means++',max_iter=100)\n",
    "kmeans.fit(X3)\n",
    "a = kmeans.cluster_centers_.argsort()[:,-1:-26:-1]\n",
    "for i,j in enumerate(a):\n",
    "    print(str(i) + ':' + ','.join(words[k] for k in j))"
   ]
  },
  {
   "cell_type": "markdown",
   "metadata": {
    "_cell_guid": "bff92434-ec9d-4e6b-a4a2-72ec4ea6f3bc",
    "_uuid": "7225da580975f8589615a8fd5232ba3c80780845"
   },
   "source": [
    "## 3.5 Clusters 等于 8"
   ]
  },
  {
   "cell_type": "code",
   "execution_count": 49,
   "metadata": {
    "_cell_guid": "4134a6d2-09aa-4cf5-9821-d95d0482c4ac",
    "_uuid": "cf3c5af56aa05f6679effe85774207fe824255a1"
   },
   "outputs": [
    {
     "name": "stdout",
     "output_type": "stream",
     "text": [
      "0:polic,plan,probe,water,investig,station,arrest,protest,drug,wa,death,search,cannabi,murder,victim,fatal,car,welcom,road,charg,shire,driver,park,stab,suspect\n",
      "1:man,charg,murder,court,face,polic,stab,jail,miss,death,assault,arrest,u,search,accid,hospit,car,attack,die,plane,injur,fatal,sex,convict,child\n",
      "2:war,protest,anti,howard,ralli,pm,student,plan,thousand,march,fear,condemn,say,open,melbourn,street,market,downer,day,warn,start,nz,union,crean,stage\n",
      "3:iraqi,diplomat,forc,baghdad,expel,coalit,marin,kill,missil,say,war,civilian,bomb,saddam,surrend,suicid,refuge,troop,attack,claim,border,aid,basra,weapon,tv\n",
      "4:win,say,warn,claim,baghdad,world,report,kill,rain,cup,lead,fund,set,nsw,death,crash,urg,water,court,open,face,final,continu,hope,troop\n",
      "5:iraq,war,say,missil,troop,howard,deni,post,bush,destroy,blair,pm,report,bomb,attack,forc,british,kill,turkey,aid,warn,blix,uk,kuwait,tv\n",
      "6:council,secur,elect,fund,land,plan,seek,welcom,consid,water,chang,urg,manag,decis,park,develop,studi,offer,hold,vote,centr,claim,poll,meet,debat\n",
      "7:govt,new,vic,nsw,sa,urg,plan,wa,fund,qld,tas,claim,local,consid,hospit,announc,say,work,hope,reject,reform,nt,opp,resolut,high\n"
     ]
    }
   ],
   "source": [
    "# 同上\n",
    "kmeans = KMeans(n_clusters=8,init='k-means++',max_iter=300)\n",
    "kmeans.fit(X3)\n",
    "a = kmeans.cluster_centers_.argsort()[:,-1:-26:-1]\n",
    "for i, j in enumerate(a):\n",
    "    print(str(i) + ':' + ','.join(words[k] for k in j))"
   ]
  },
  {
   "cell_type": "markdown",
   "metadata": {
    "_cell_guid": "a168498b-1322-4010-b462-596bc0ba186b",
    "_uuid": "4717568e34623b3b88f033670c20f01f7ddd63a6"
   },
   "source": [
    "最后，我们可以根据不同簇数量产生的聚类结果，人工判断哪一个聚类的效果最好"
   ]
  },
  {
   "cell_type": "code",
   "execution_count": null,
   "metadata": {},
   "outputs": [],
   "source": []
  }
 ],
 "metadata": {
  "kernelspec": {
   "display_name": "Python 3",
   "language": "python",
   "name": "python3"
  },
  "language_info": {
   "codemirror_mode": {
    "name": "ipython",
    "version": 3
   },
   "file_extension": ".py",
   "mimetype": "text/x-python",
   "name": "python",
   "nbconvert_exporter": "python",
   "pygments_lexer": "ipython3",
   "version": "3.8.2"
  }
 },
 "nbformat": 4,
 "nbformat_minor": 1
}
